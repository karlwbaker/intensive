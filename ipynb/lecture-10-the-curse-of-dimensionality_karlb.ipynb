{
 "cells": [
  {
   "cell_type": "markdown",
   "metadata": {},
   "source": [
    "### The Curse of Dimensionality"
   ]
  },
  {
   "cell_type": "code",
   "execution_count": 1,
   "metadata": {
    "collapsed": true
   },
   "outputs": [],
   "source": [
    "###### Define Numerical Python environment\n",
    "\n",
    "import numpy as np\n",
    "import pandas as pd\n",
    "import matplotlib.pyplot as plt\n",
    "%matplotlib inline"
   ]
  },
  {
   "cell_type": "code",
   "execution_count": 2,
   "metadata": {
    "collapsed": true
   },
   "outputs": [],
   "source": [
    "###### Define `datasets` of varying size using `make_classification`\n",
    "\n",
    "from sklearn.datasets import make_classification\n",
    "\n",
    "n_vals = np.logspace(1, 4, 20)\n",
    "\n",
    "datasets = { \n",
    "    int(n): make_classification(int(n)) # returns a tuple\n",
    "    for n in n_vals\n",
    "}"
   ]
  },
  {
   "cell_type": "code",
   "execution_count": 4,
   "metadata": {},
   "outputs": [
    {
     "data": {
      "text/plain": [
       "array([ 1.        ,  1.47368421,  1.94736842,  2.42105263,  2.89473684,\n",
       "        3.36842105,  3.84210526,  4.31578947,  4.78947368,  5.26315789,\n",
       "        5.73684211,  6.21052632,  6.68421053,  7.15789474,  7.63157895,\n",
       "        8.10526316,  8.57894737,  9.05263158,  9.52631579, 10.        ])"
      ]
     },
     "execution_count": 4,
     "metadata": {},
     "output_type": "execute_result"
    }
   ],
   "source": [
    "np.linspace(1,10,20) # 20 evenly-spaced values from 1 to 10"
   ]
  },
  {
   "cell_type": "code",
   "execution_count": 6,
   "metadata": {},
   "outputs": [
    {
     "data": {
      "text/plain": [
       "array([1.        , 1.15789474, 1.31578947, 1.47368421, 1.63157895,\n",
       "       1.78947368, 1.94736842, 2.10526316, 2.26315789, 2.42105263,\n",
       "       2.57894737, 2.73684211, 2.89473684, 3.05263158, 3.21052632,\n",
       "       3.36842105, 3.52631579, 3.68421053, 3.84210526, 4.        ])"
      ]
     },
     "execution_count": 6,
     "metadata": {},
     "output_type": "execute_result"
    }
   ],
   "source": [
    "np.linspace(1,4,20)"
   ]
  },
  {
   "cell_type": "code",
   "execution_count": 5,
   "metadata": {},
   "outputs": [
    {
     "data": {
      "text/plain": [
       "array([1.00000000e+01, 2.97635144e+01, 8.85866790e+01, 2.63665090e+02,\n",
       "       7.84759970e+02, 2.33572147e+03, 6.95192796e+03, 2.06913808e+04,\n",
       "       6.15848211e+04, 1.83298071e+05, 5.45559478e+05, 1.62377674e+06,\n",
       "       4.83293024e+06, 1.43844989e+07, 4.28133240e+07, 1.27427499e+08,\n",
       "       3.79269019e+08, 1.12883789e+09, 3.35981829e+09, 1.00000000e+10])"
      ]
     },
     "execution_count": 5,
     "metadata": {},
     "output_type": "execute_result"
    }
   ],
   "source": [
    "# create an exponentially increasing dataset\n",
    "np.logspace(1,10,20) # 20 evenly log-spaced values from 10^1 to 10^10"
   ]
  },
  {
   "cell_type": "code",
   "execution_count": 3,
   "metadata": {},
   "outputs": [
    {
     "name": "stdout",
     "output_type": "stream",
     "text": [
      "Variable              Type        Data/Info\n",
      "-------------------------------------------\n",
      "datasets              dict        n=20\n",
      "make_classification   function    <function make_classifica<...>on at 0x000001A89CF6CAE8>\n",
      "n_vals                ndarray     20: 20 elems, type `float64`, 160 bytes\n",
      "np                    module      <module 'numpy' from 'C:\\<...>ges\\\\numpy\\\\__init__.py'>\n",
      "pd                    module      <module 'pandas' from 'C:<...>es\\\\pandas\\\\__init__.py'>\n",
      "plt                   module      <module 'matplotlib.pyplo<...>\\\\matplotlib\\\\pyplot.py'>\n"
     ]
    }
   ],
   "source": [
    "# to check state\n",
    "%whos"
   ]
  },
  {
   "cell_type": "code",
   "execution_count": 7,
   "metadata": {
    "collapsed": true
   },
   "outputs": [],
   "source": [
    "###### Load models from Scikit-Learn\n",
    "\n",
    "from sklearn.neighbors import KNeighborsClassifier\n",
    "from sklearn.tree import DecisionTreeClassifier\n",
    "from sklearn.linear_model import LogisticRegression\n",
    "from sklearn.svm import SVC"
   ]
  },
  {
   "cell_type": "code",
   "execution_count": 8,
   "metadata": {
    "collapsed": true
   },
   "outputs": [],
   "source": [
    "###### Define dictionary of models\n",
    "\n",
    "models = {\n",
    "    'knn' : KNeighborsClassifier(),\n",
    "    'lr' : LogisticRegression(),\n",
    "    'dt' : DecisionTreeClassifier(),\n",
    "    'svm' : SVC(),\n",
    "}"
   ]
  },
  {
   "cell_type": "code",
   "execution_count": 9,
   "metadata": {
    "collapsed": true
   },
   "outputs": [],
   "source": [
    "###### import `time` library\n",
    "\n",
    "from time import time"
   ]
  },
  {
   "cell_type": "code",
   "execution_count": 11,
   "metadata": {
    "collapsed": true
   },
   "outputs": [],
   "source": [
    "###### Define functions to time fit and prediction\n",
    "\n",
    "def time_fit(data, model): # data is a tuple\n",
    "    start = time()\n",
    "    model.fit(*data) # splat notation will \"unpack\" the tuple\n",
    "    fit_time = time() - start\n",
    "    return fit_time\n",
    "\n",
    "def time_predict(data, model):\n",
    "    start = time()\n",
    "    model.predict(data[0]) # prediction only needs the X(sub i)\n",
    "    predict_time = time() - start\n",
    "    return predict_time"
   ]
  },
  {
   "cell_type": "code",
   "execution_count": 12,
   "metadata": {
    "collapsed": true
   },
   "outputs": [],
   "source": [
    "###### Define function to test all models on a dataset of size $n$\n",
    "\n",
    "def fit_predict_model_on_n(model_name, n):\n",
    "    \n",
    "    model = models[model_name]\n",
    "    dataset = datasets[n]\n",
    "    \n",
    "    fit_time = time_fit(dataset, model)\n",
    "    \n",
    "    predict_time = time_predict(dataset, model)\n",
    "    \n",
    "    return {\n",
    "        'model_name' : model_name,\n",
    "        'n' : n,\n",
    "        'fit_time' : fit_time,\n",
    "        'predict_time' : predict_time\n",
    "    }"
   ]
  },
  {
   "cell_type": "code",
   "execution_count": 13,
   "metadata": {
    "collapsed": true
   },
   "outputs": [],
   "source": [
    "###### Run all models against all datasets \n",
    "\n",
    "results = []\n",
    "for n in datasets.keys(): \n",
    "    for model in models.keys():\n",
    "        results.append(fit_predict_model_on_n(model, n))"
   ]
  },
  {
   "cell_type": "code",
   "execution_count": 14,
   "metadata": {
    "collapsed": true
   },
   "outputs": [],
   "source": [
    "###### Collect results in a `DataFrame`\n",
    "\n",
    "results_df = pd.DataFrame(results)"
   ]
  },
  {
   "cell_type": "code",
   "execution_count": 15,
   "metadata": {},
   "outputs": [
    {
     "data": {
      "text/html": [
       "<div>\n",
       "<style scoped>\n",
       "    .dataframe tbody tr th:only-of-type {\n",
       "        vertical-align: middle;\n",
       "    }\n",
       "\n",
       "    .dataframe tbody tr th {\n",
       "        vertical-align: top;\n",
       "    }\n",
       "\n",
       "    .dataframe thead th {\n",
       "        text-align: right;\n",
       "    }\n",
       "</style>\n",
       "<table border=\"1\" class=\"dataframe\">\n",
       "  <thead>\n",
       "    <tr style=\"text-align: right;\">\n",
       "      <th></th>\n",
       "      <th>fit_time</th>\n",
       "      <th>model_name</th>\n",
       "      <th>n</th>\n",
       "      <th>predict_time</th>\n",
       "    </tr>\n",
       "  </thead>\n",
       "  <tbody>\n",
       "    <tr>\n",
       "      <th>10</th>\n",
       "      <td>0.000000</td>\n",
       "      <td>dt</td>\n",
       "      <td>20</td>\n",
       "      <td>0.000000</td>\n",
       "    </tr>\n",
       "    <tr>\n",
       "      <th>1</th>\n",
       "      <td>0.004952</td>\n",
       "      <td>lr</td>\n",
       "      <td>10</td>\n",
       "      <td>0.000502</td>\n",
       "    </tr>\n",
       "    <tr>\n",
       "      <th>23</th>\n",
       "      <td>0.010372</td>\n",
       "      <td>svm</td>\n",
       "      <td>61</td>\n",
       "      <td>0.000000</td>\n",
       "    </tr>\n",
       "    <tr>\n",
       "      <th>52</th>\n",
       "      <td>0.004042</td>\n",
       "      <td>knn</td>\n",
       "      <td>1128</td>\n",
       "      <td>0.118371</td>\n",
       "    </tr>\n",
       "    <tr>\n",
       "      <th>36</th>\n",
       "      <td>0.000000</td>\n",
       "      <td>knn</td>\n",
       "      <td>263</td>\n",
       "      <td>0.005978</td>\n",
       "    </tr>\n",
       "  </tbody>\n",
       "</table>\n",
       "</div>"
      ],
      "text/plain": [
       "    fit_time model_name     n  predict_time\n",
       "10  0.000000         dt    20      0.000000\n",
       "1   0.004952         lr    10      0.000502\n",
       "23  0.010372        svm    61      0.000000\n",
       "52  0.004042        knn  1128      0.118371\n",
       "36  0.000000        knn   263      0.005978"
      ]
     },
     "execution_count": 15,
     "metadata": {},
     "output_type": "execute_result"
    }
   ],
   "source": [
    "###### Display a sample of the results\n",
    "\n",
    "results_df.sample(5)"
   ]
  },
  {
   "cell_type": "code",
   "execution_count": 16,
   "metadata": {},
   "outputs": [
    {
     "data": {
      "image/png": "[encoded data removed]",
      "text/plain": [
       "<matplotlib.figure.Figure at 0x1a8a8f28cf8>"
      ]
     },
     "metadata": {},
     "output_type": "display_data"
    }
   ],
   "source": [
    "###### Plot Fit Time and Prediction Time\n",
    "\n",
    "fig, (ax1, ax2) = plt.subplots(1, 2, figsize=(20,5))\n",
    "\n",
    "for model_name in results_df.model_name.unique():\n",
    "    \n",
    "    model_mask = (results_df.model_name == model_name)\n",
    "    model_results_df = results_df[model_mask]\n",
    "\n",
    "    ax1.set_title('Fit Time')\n",
    "    ax1.plot(model_results_df.n, \n",
    "             model_results_df.fit_time, \n",
    "             label=model_name)\n",
    "    ax1.set_ylim((0,5))\n",
    "    ax1.legend()\n",
    "    \n",
    "    ax2.set_title('Prediction Time')\n",
    "    ax2.set_ylim((0, 5))\n",
    "    ax2.plot(model_results_df.n, \n",
    "             model_results_df.predict_time, \n",
    "             label=model_name)\n",
    "    ax2.legend()\n",
    "    \n",
    "plt.show()    "
   ]
  },
  {
   "cell_type": "code",
   "execution_count": 17,
   "metadata": {},
   "outputs": [
    {
     "data": {
      "image/png": "[encoded data removed]",
      "text/plain": [
       "<matplotlib.figure.Figure at 0x1a8a9382dd8>"
      ]
     },
     "metadata": {},
     "output_type": "display_data"
    }
   ],
   "source": [
    "###### Plot Fit Time and Prediction Time with Logarithmic Scale for $n$\n",
    "\n",
    "fig, (ax1, ax2) = plt.subplots(1, 2, figsize=(20,5))\n",
    "\n",
    "for model_name in results_df.model_name.unique():\n",
    "    \n",
    "    model_mask = (results_df.model_name == model_name)\n",
    "    model_results_df = results_df[model_mask]\n",
    "    \n",
    "    ax1.set_title('Fit Time')\n",
    "    ax1.plot(model_results_df.n, \n",
    "             model_results_df.fit_time, \n",
    "             label=model_name)\n",
    "    ax1.set_xscale('log')\n",
    "    ax1.set_ylim((0, 5))\n",
    "    ax1.legend()\n",
    "    \n",
    "    ax2.set_title('Prediction Time')\n",
    "    ax2.plot(model_results_df.n, \n",
    "             model_results_df.predict_time, \n",
    "             label=model_name)\n",
    "    ax2.set_xscale('log')\n",
    "    ax2.set_ylim((0, 5))\n",
    "    ax2.legend()\n",
    "\n",
    "plt.show()    "
   ]
  },
  {
   "cell_type": "code",
   "execution_count": null,
   "metadata": {
    "collapsed": true
   },
   "outputs": [],
   "source": [
    " "
   ]
  }
 ],
 "metadata": {
  "kernelspec": {
   "display_name": "Python 3",
   "language": "python",
   "name": "python3"
  },
  "language_info": {
   "codemirror_mode": {
    "name": "ipython",
    "version": 3
   },
   "file_extension": ".py",
   "mimetype": "text/x-python",
   "name": "python",
   "nbconvert_exporter": "python",
   "pygments_lexer": "ipython3",
   "version": "3.6.4"
  }
 },
 "nbformat": 4,
 "nbformat_minor": 2
}
