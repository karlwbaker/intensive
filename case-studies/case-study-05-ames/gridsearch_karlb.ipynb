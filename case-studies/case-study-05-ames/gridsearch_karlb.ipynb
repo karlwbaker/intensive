{
 "cells": [
  {
   "cell_type": "markdown",
   "metadata": {},
   "source": [
    "### Grid Search with Cross-Validation"
   ]
  },
  {
   "cell_type": "code",
   "execution_count": 1,
   "metadata": {
    "collapsed": true
   },
   "outputs": [],
   "source": [
    "###### Load the preprocessed Datasets\n",
    "\n",
    "%run src/preprocessing-final.py"
   ]
  },
  {
   "cell_type": "code",
   "execution_count": 2,
   "metadata": {},
   "outputs": [
    {
     "name": "stdout",
     "output_type": "stream",
     "text": [
      "Variable    Type         Data/Info\n",
      "----------------------------------\n",
      "dataset_1   DataFrame          MSSubClass_20  MSSu<...>[1444 rows x 382 columns]\n",
      "dataset_2   DataFrame          MSSubClass_20  MSSu<...>[1444 rows x 390 columns]\n",
      "dataset_3   DataFrame          LotFrontage   LotAr<...>[1444 rows x 382 columns]\n",
      "dataset_4   DataFrame          LotFrontage   LotAr<...>[1444 rows x 390 columns]\n"
     ]
    }
   ],
   "source": [
    "###### Display Dataframes currently loaded\n",
    "\n",
    "%whos DataFrame"
   ]
  },
  {
   "cell_type": "code",
   "execution_count": 3,
   "metadata": {
    "collapsed": true
   },
   "outputs": [],
   "source": [
    "###### Import the Python Numerical Stack\n",
    "\n",
    "import matplotlib.pyplot as plt\n",
    "import numpy as np\n",
    "import seaborn as sns"
   ]
  },
  {
   "cell_type": "code",
   "execution_count": 4,
   "metadata": {
    "collapsed": true
   },
   "outputs": [],
   "source": [
    "###### Import metrics from Scikit-Learn \n",
    "\n",
    "from sklearn.metrics import r2_score, mean_squared_error, mean_absolute_error"
   ]
  },
  {
   "cell_type": "code",
   "execution_count": 5,
   "metadata": {
    "collapsed": true
   },
   "outputs": [],
   "source": [
    "###### Suppress Warnings\n",
    "\n",
    "import warnings\n",
    "warnings.filterwarnings('ignore')"
   ]
  },
  {
   "cell_type": "code",
   "execution_count": 6,
   "metadata": {
    "collapsed": true
   },
   "outputs": [],
   "source": [
    "###### Load Grid Search Cross-Validator \n",
    "\n",
    "from sklearn.model_selection import GridSearchCV"
   ]
  },
  {
   "cell_type": "code",
   "execution_count": 7,
   "metadata": {
    "collapsed": true
   },
   "outputs": [],
   "source": [
    "###### Import Linear Models\n",
    "\n",
    "from sklearn.linear_model import Lasso, Ridge, SGDRegressor\n",
    "from sklearn.svm import LinearSVR"
   ]
  },
  {
   "cell_type": "markdown",
   "metadata": {},
   "source": [
    "http://scikit-learn.org/stable/tutorial/machine_learning_map/index.html\n",
    "\n",
    "<img src=\"https://www.evernote.com/l/AAEeKAnYmjFJX7GnDLsoUChT8idXE1JrFiIB/image.png\">"
   ]
  },
  {
   "cell_type": "markdown",
   "metadata": {},
   "source": [
    "#### Most Appropriate Estimators"
   ]
  },
  {
   "cell_type": "code",
   "execution_count": 8,
   "metadata": {
    "collapsed": true
   },
   "outputs": [],
   "source": [
    "###### Define Grid Search parameters for four models\n",
    "\n",
    "gs_param_lasso = {\n",
    "    'alpha' : np.logspace(-1,5,7)\n",
    "}\n",
    "\n",
    "gs_param_ridge = {\n",
    "    'alpha' : np.logspace(-1,5,7)\n",
    "}\n",
    "\n",
    "gs_param_sgd = {\n",
    "    'penalty' : ['l1', 'l2'],\n",
    "    'alpha' : np.logspace(-1,5,7)\n",
    "}\n",
    "\n",
    "gs_param_linear_svr = {\n",
    "    'C' : np.logspace(-5, 5, 7)\n",
    "    \n",
    "}"
   ]
  },
  {
   "cell_type": "code",
   "execution_count": 9,
   "metadata": {
    "collapsed": true
   },
   "outputs": [],
   "source": [
    "###### Define Grid Search models\n",
    "\n",
    "lasso_grid_search = GridSearchCV(\n",
    "    Lasso(),\n",
    "    param_grid=gs_param_lasso,\n",
    "    n_jobs=-1\n",
    ")\n",
    "\n",
    "ridge_grid_search = GridSearchCV(\n",
    "    Ridge(),\n",
    "    param_grid=gs_param_ridge,\n",
    "    n_jobs=-1\n",
    ")\n",
    "\n",
    "sgd_grid_search = GridSearchCV(\n",
    "    SGDRegressor(),\n",
    "    param_grid=gs_param_ridge,\n",
    "    n_jobs=-1\n",
    ")\n",
    "\n",
    "linearsvr_grid_search = GridSearchCV(\n",
    "    LinearSVR(),\n",
    "    param_grid=gs_param_linear_svr,\n",
    "    n_jobs=-1\n",
    ")"
   ]
  },
  {
   "cell_type": "code",
   "execution_count": 10,
   "metadata": {},
   "outputs": [
    {
     "data": {
      "text/plain": [
       "GridSearchCV(cv=None, error_score='raise',\n",
       "       estimator=LinearSVR(C=1.0, dual=True, epsilon=0.0, fit_intercept=True,\n",
       "     intercept_scaling=1.0, loss='epsilon_insensitive', max_iter=1000,\n",
       "     random_state=None, tol=0.0001, verbose=0),\n",
       "       fit_params=None, iid=True, n_jobs=-1,\n",
       "       param_grid={'C': array([1.00000e-05, 4.64159e-04, 2.15443e-02, 1.00000e+00, 4.64159e+01,\n",
       "       2.15443e+03, 1.00000e+05])},\n",
       "       pre_dispatch='2*n_jobs', refit=True, return_train_score='warn',\n",
       "       scoring=None, verbose=0)"
      ]
     },
     "execution_count": 10,
     "metadata": {},
     "output_type": "execute_result"
    }
   ],
   "source": [
    "###### Perform fit on Dataset 2\n",
    "\n",
    "lasso_grid_search.fit(dataset_2, target_2)\n",
    "ridge_grid_search.fit(dataset_2, target_2)\n",
    "sgd_grid_search.fit(dataset_2, target_2)\n",
    "linearsvr_grid_search.fit(dataset_2, target_2)"
   ]
  },
  {
   "cell_type": "code",
   "execution_count": 11,
   "metadata": {
    "collapsed": true
   },
   "outputs": [],
   "source": [
    "###### Retrieve Best Estimator from Grid Search models\n",
    "\n",
    "best_lasso = lasso_grid_search.best_estimator_\n",
    "best_ridge = ridge_grid_search.best_estimator_\n",
    "best_sgd = sgd_grid_search.best_estimator_\n",
    "best_linearsvr = linearsvr_grid_search.best_estimator_"
   ]
  },
  {
   "cell_type": "code",
   "execution_count": 12,
   "metadata": {},
   "outputs": [
    {
     "data": {
      "text/plain": [
       "(0.8940381819067793, 0.888391567320559, 0.844702158013162, 0.8823200386188729)"
      ]
     },
     "execution_count": 12,
     "metadata": {},
     "output_type": "execute_result"
    }
   ],
   "source": [
    "###### Display Best Scores from Grid Search models\n",
    "\n",
    "(lasso_grid_search.best_score_,\n",
    " ridge_grid_search.best_score_,\n",
    " sgd_grid_search.best_score_,\n",
    " linearsvr_grid_search.best_score_)"
   ]
  },
  {
   "cell_type": "code",
   "execution_count": 13,
   "metadata": {},
   "outputs": [
    {
     "data": {
      "text/plain": [
       "Lasso(alpha=100.0, copy_X=True, fit_intercept=True, max_iter=1000,\n",
       "   normalize=False, positive=False, precompute=False, random_state=None,\n",
       "   selection='cyclic', tol=0.0001, warm_start=False)"
      ]
     },
     "execution_count": 13,
     "metadata": {},
     "output_type": "execute_result"
    }
   ],
   "source": [
    "###### Display best model\n",
    "\n",
    "best_lasso"
   ]
  },
  {
   "cell_type": "code",
   "execution_count": 13,
   "metadata": {},
   "outputs": [
    {
     "data": {
      "text/plain": [
       "Ridge(alpha=10.0, copy_X=True, fit_intercept=True, max_iter=None,\n",
       "   normalize=False, random_state=None, solver='auto', tol=0.001)"
      ]
     },
     "execution_count": 13,
     "metadata": {},
     "output_type": "execute_result"
    }
   ],
   "source": [
    "best_ridge"
   ]
  },
  {
   "cell_type": "code",
   "execution_count": 15,
   "metadata": {},
   "outputs": [
    {
     "data": {
      "text/plain": [
       "LinearSVR(C=100000.0, dual=True, epsilon=0.0, fit_intercept=True,\n",
       "     intercept_scaling=1.0, loss='epsilon_insensitive', max_iter=1000,\n",
       "     random_state=None, tol=0.0001, verbose=0)"
      ]
     },
     "execution_count": 15,
     "metadata": {},
     "output_type": "execute_result"
    }
   ],
   "source": [
    "best_linearsvr"
   ]
  },
  {
   "cell_type": "code",
   "execution_count": 16,
   "metadata": {},
   "outputs": [
    {
     "data": {
      "text/plain": [
       "SGDRegressor(alpha=0.1, average=False, epsilon=0.1, eta0=0.01,\n",
       "       fit_intercept=True, l1_ratio=0.15, learning_rate='invscaling',\n",
       "       loss='squared_loss', max_iter=None, n_iter=None, penalty='l2',\n",
       "       power_t=0.25, random_state=None, shuffle=True, tol=None, verbose=0,\n",
       "       warm_start=False)"
      ]
     },
     "execution_count": 16,
     "metadata": {},
     "output_type": "execute_result"
    }
   ],
   "source": [
    "best_sgd"
   ]
  },
  {
   "cell_type": "markdown",
   "metadata": {},
   "source": [
    "#### Next Level"
   ]
  },
  {
   "cell_type": "code",
   "execution_count": 17,
   "metadata": {
    "collapsed": true
   },
   "outputs": [],
   "source": [
    "###### Import kernel enabled support vector machine\n",
    "\n",
    "from sklearn.svm import SVR"
   ]
  },
  {
   "cell_type": "code",
   "execution_count": 18,
   "metadata": {
    "collapsed": true
   },
   "outputs": [],
   "source": [
    "###### Import ensemble models\n",
    "\n",
    "from sklearn.ensemble import (AdaBoostRegressor,\n",
    "                              GradientBoostingRegressor,\n",
    "                              RandomForestRegressor)"
   ]
  },
  {
   "cell_type": "code",
   "execution_count": 19,
   "metadata": {
    "collapsed": true
   },
   "outputs": [],
   "source": [
    "###### Define Grid Search parameters for four models\n",
    "\n",
    "gs_param_svr = {\n",
    "    'kernel' : ['rbf'],\n",
    "    'C' : np.logspace(-5, 5, 7)\n",
    "}\n",
    "\n",
    "gs_param_adaboost = {\n",
    "    \n",
    "}\n",
    "\n",
    "gs_param_gradboost = {\n",
    "    'max_depth' : [1,2,3,4,5],\n",
    "    'max_features' : ['sqrt', 'auto', 'log2']\n",
    "}\n",
    "\n",
    "gs_param_random_forest = {   \n",
    "    'n_estimators' : [10,20,50,100],\n",
    "    'max_features' : ['sqrt', 'auto', 'log2']\n",
    "}"
   ]
  },
  {
   "cell_type": "code",
   "execution_count": 20,
   "metadata": {
    "collapsed": true
   },
   "outputs": [],
   "source": [
    "###### Define Grid Search models\n",
    "\n",
    "svr_grid_search = GridSearchCV(\n",
    "    SVR(),\n",
    "    param_grid=gs_param_svr,\n",
    "    n_jobs=-1\n",
    ")\n",
    "\n",
    "adaboost_grid_search = GridSearchCV(\n",
    "    AdaBoostRegressor(), \n",
    "    param_grid=gs_param_adaboost, \n",
    "    n_jobs=-1\n",
    ")\n",
    "\n",
    "gradboost_grid_search = GridSearchCV(\n",
    "    GradientBoostingRegressor(),\n",
    "    param_grid=gs_param_gradboost,\n",
    "    n_jobs=-1\n",
    ")\n",
    "\n",
    "random_forest_grid_search = GridSearchCV(\n",
    "    RandomForestRegressor(),\n",
    "    param_grid=gs_param_random_forest,\n",
    "    n_jobs=-1\n",
    ")"
   ]
  },
  {
   "cell_type": "code",
   "execution_count": 21,
   "metadata": {},
   "outputs": [
    {
     "data": {
      "text/plain": [
       "GridSearchCV(cv=None, error_score='raise',\n",
       "       estimator=RandomForestRegressor(bootstrap=True, criterion='mse', max_depth=None,\n",
       "           max_features='auto', max_leaf_nodes=None,\n",
       "           min_impurity_decrease=0.0, min_impurity_split=None,\n",
       "           min_samples_leaf=1, min_samples_split=2,\n",
       "           min_weight_fraction_leaf=0.0, n_estimators=10, n_jobs=1,\n",
       "           oob_score=False, random_state=None, verbose=0, warm_start=False),\n",
       "       fit_params=None, iid=True, n_jobs=-1,\n",
       "       param_grid={'n_estimators': [10, 20, 50, 100], 'max_features': ['sqrt', 'auto', 'log2']},\n",
       "       pre_dispatch='2*n_jobs', refit=True, return_train_score='warn',\n",
       "       scoring=None, verbose=0)"
      ]
     },
     "execution_count": 21,
     "metadata": {},
     "output_type": "execute_result"
    }
   ],
   "source": [
    "###### Perform fit on Dataset 2\n",
    "\n",
    "svr_grid_search.fit(dataset_2, target_2)\n",
    "adaboost_grid_search.fit(dataset_2, target_2)\n",
    "gradboost_grid_search.fit(dataset_2, target_2)\n",
    "random_forest_grid_search.fit(dataset_2, target_2)"
   ]
  },
  {
   "cell_type": "code",
   "execution_count": 22,
   "metadata": {},
   "outputs": [
    {
     "data": {
      "text/plain": [
       "0.9016708596537198"
      ]
     },
     "execution_count": 22,
     "metadata": {},
     "output_type": "execute_result"
    }
   ],
   "source": [
    "###### Display score for gradient boosted model\n",
    "\n",
    "gradboost_grid_search.best_score_"
   ]
  },
  {
   "cell_type": "code",
   "execution_count": 23,
   "metadata": {
    "collapsed": true
   },
   "outputs": [],
   "source": [
    "###### Import pickle library\n",
    "\n",
    "import pickle"
   ]
  },
  {
   "cell_type": "code",
   "execution_count": 24,
   "metadata": {
    "collapsed": true
   },
   "outputs": [],
   "source": [
    "###### Import `joblib` from Scikit-Learn\n",
    "\n",
    "from sklearn.externals import joblib"
   ]
  },
  {
   "cell_type": "code",
   "execution_count": 25,
   "metadata": {},
   "outputs": [
    {
     "data": {
      "text/plain": [
       "['best_lasso.p']"
      ]
     },
     "execution_count": 25,
     "metadata": {},
     "output_type": "execute_result"
    }
   ],
   "source": [
    "###### Use `joblib` to export best Lasso model\n",
    "\n",
    "joblib.dump(best_lasso, 'best_lasso.p')"
   ]
  },
  {
   "cell_type": "code",
   "execution_count": 26,
   "metadata": {
    "collapsed": true
   },
   "outputs": [],
   "source": [
    "###### Use `joblib` to load best Lasso model\n",
    "\n",
    "lasso_model = joblib.load('best_lasso.p')"
   ]
  },
  {
   "cell_type": "code",
   "execution_count": 27,
   "metadata": {
    "collapsed": true
   },
   "outputs": [],
   "source": [
    "###### Retrieve Best Estimator from Grid Search models\n",
    "\n",
    "best_svr = svr_grid_search.best_estimator_\n",
    "best_adaboost = adaboost_grid_search.best_estimator_\n",
    "best_gradboost = gradboost_grid_search.best_estimator_\n",
    "best_random_forest = random_forest_grid_search.best_estimator_"
   ]
  },
  {
   "cell_type": "code",
   "execution_count": 28,
   "metadata": {},
   "outputs": [
    {
     "data": {
      "text/plain": [
       "(0.8596730614109156, 0.814457254213291, 0.9016708596537198, 0.861423143974761)"
      ]
     },
     "execution_count": 28,
     "metadata": {},
     "output_type": "execute_result"
    }
   ],
   "source": [
    "###### Display Best Scores from Grid Search models\n",
    "\n",
    "(svr_grid_search.best_score_,\n",
    " adaboost_grid_search.best_score_,\n",
    " gradboost_grid_search.best_score_,\n",
    " random_forest_grid_search.best_score_)"
   ]
  },
  {
   "cell_type": "code",
   "execution_count": 29,
   "metadata": {
    "scrolled": true
   },
   "outputs": [
    {
     "data": {
      "text/plain": [
       "(0.8940381819067793, 0.9016708596537198)"
      ]
     },
     "execution_count": 29,
     "metadata": {},
     "output_type": "execute_result"
    }
   ],
   "source": [
    "###### Display best model scores\n",
    "\n",
    "lasso_grid_search.best_score_, gradboost_grid_search.best_score_"
   ]
  },
  {
   "cell_type": "code",
   "execution_count": 36,
   "metadata": {},
   "outputs": [],
   "source": [
    "results = pd.DataFrame(gradboost_grid_search.cv_results_).T\n",
    "\n",
    "colors = []\n",
    "\n",
    "results[colors] = ['red', 'moccasin', 'chartreuse', 'gold', 'blue', \n",
    "          'black', 'purple', 'cyan', 'teal', 'magenta', 'lavenderblush',\n",
    "          'deepskyblue', 'lime', 'brown', 'coral']"
   ]
  },
  {
   "cell_type": "code",
   "execution_count": 37,
   "metadata": {},
   "outputs": [
    {
     "data": {
      "text/html": [
       "<div>\n",
       "<style scoped>\n",
       "    .dataframe tbody tr th:only-of-type {\n",
       "        vertical-align: middle;\n",
       "    }\n",
       "\n",
       "    .dataframe tbody tr th {\n",
       "        vertical-align: top;\n",
       "    }\n",
       "\n",
       "    .dataframe thead th {\n",
       "        text-align: right;\n",
       "    }\n",
       "</style>\n",
       "<table border=\"1\" class=\"dataframe\">\n",
       "  <thead>\n",
       "    <tr style=\"text-align: right;\">\n",
       "      <th></th>\n",
       "      <th>0</th>\n",
       "      <th>1</th>\n",
       "      <th>2</th>\n",
       "      <th>3</th>\n",
       "      <th>4</th>\n",
       "      <th>5</th>\n",
       "      <th>6</th>\n",
       "      <th>7</th>\n",
       "      <th>8</th>\n",
       "      <th>9</th>\n",
       "      <th>10</th>\n",
       "      <th>11</th>\n",
       "      <th>12</th>\n",
       "      <th>13</th>\n",
       "      <th>14</th>\n",
       "    </tr>\n",
       "  </thead>\n",
       "  <tbody>\n",
       "    <tr>\n",
       "      <th>mean_fit_time</th>\n",
       "      <td>0.104072</td>\n",
       "      <td>0.622322</td>\n",
       "      <td>0.104802</td>\n",
       "      <td>0.184525</td>\n",
       "      <td>1.45895</td>\n",
       "      <td>0.130467</td>\n",
       "      <td>0.251796</td>\n",
       "      <td>2.66087</td>\n",
       "      <td>0.169009</td>\n",
       "      <td>0.353051</td>\n",
       "      <td>4.07098</td>\n",
       "      <td>0.220351</td>\n",
       "      <td>0.481347</td>\n",
       "      <td>4.95051</td>\n",
       "      <td>0.277144</td>\n",
       "    </tr>\n",
       "    <tr>\n",
       "      <th>mean_score_time</th>\n",
       "      <td>0.00637603</td>\n",
       "      <td>0.0093526</td>\n",
       "      <td>0.00844916</td>\n",
       "      <td>0.00792408</td>\n",
       "      <td>0.00835355</td>\n",
       "      <td>0.0120048</td>\n",
       "      <td>0.00933035</td>\n",
       "      <td>0.0106698</td>\n",
       "      <td>0.0106639</td>\n",
       "      <td>0.0133296</td>\n",
       "      <td>0.0110799</td>\n",
       "      <td>0.00977564</td>\n",
       "      <td>0.0119977</td>\n",
       "      <td>0.0071609</td>\n",
       "      <td>0.0120005</td>\n",
       "    </tr>\n",
       "    <tr>\n",
       "      <th>mean_test_score</th>\n",
       "      <td>0.849619</td>\n",
       "      <td>0.86829</td>\n",
       "      <td>0.791615</td>\n",
       "      <td>0.888426</td>\n",
       "      <td>0.893619</td>\n",
       "      <td>0.879706</td>\n",
       "      <td>0.897063</td>\n",
       "      <td>0.895025</td>\n",
       "      <td>0.881548</td>\n",
       "      <td>0.901671</td>\n",
       "      <td>0.892158</td>\n",
       "      <td>0.881976</td>\n",
       "      <td>0.88391</td>\n",
       "      <td>0.886507</td>\n",
       "      <td>0.890151</td>\n",
       "    </tr>\n",
       "    <tr>\n",
       "      <th>mean_train_score</th>\n",
       "      <td>0.881883</td>\n",
       "      <td>0.906746</td>\n",
       "      <td>0.823952</td>\n",
       "      <td>0.934112</td>\n",
       "      <td>0.950996</td>\n",
       "      <td>0.919706</td>\n",
       "      <td>0.962221</td>\n",
       "      <td>0.974832</td>\n",
       "      <td>0.946922</td>\n",
       "      <td>0.978281</td>\n",
       "      <td>0.987648</td>\n",
       "      <td>0.965519</td>\n",
       "      <td>0.988437</td>\n",
       "      <td>0.995116</td>\n",
       "      <td>0.980839</td>\n",
       "    </tr>\n",
       "    <tr>\n",
       "      <th>param_max_depth</th>\n",
       "      <td>1</td>\n",
       "      <td>1</td>\n",
       "      <td>1</td>\n",
       "      <td>2</td>\n",
       "      <td>2</td>\n",
       "      <td>2</td>\n",
       "      <td>3</td>\n",
       "      <td>3</td>\n",
       "      <td>3</td>\n",
       "      <td>4</td>\n",
       "      <td>4</td>\n",
       "      <td>4</td>\n",
       "      <td>5</td>\n",
       "      <td>5</td>\n",
       "      <td>5</td>\n",
       "    </tr>\n",
       "    <tr>\n",
       "      <th>param_max_features</th>\n",
       "      <td>sqrt</td>\n",
       "      <td>auto</td>\n",
       "      <td>log2</td>\n",
       "      <td>sqrt</td>\n",
       "      <td>auto</td>\n",
       "      <td>log2</td>\n",
       "      <td>sqrt</td>\n",
       "      <td>auto</td>\n",
       "      <td>log2</td>\n",
       "      <td>sqrt</td>\n",
       "      <td>auto</td>\n",
       "      <td>log2</td>\n",
       "      <td>sqrt</td>\n",
       "      <td>auto</td>\n",
       "      <td>log2</td>\n",
       "    </tr>\n",
       "    <tr>\n",
       "      <th>params</th>\n",
       "      <td>{'max_depth': 1, 'max_features': 'sqrt'}</td>\n",
       "      <td>{'max_depth': 1, 'max_features': 'auto'}</td>\n",
       "      <td>{'max_depth': 1, 'max_features': 'log2'}</td>\n",
       "      <td>{'max_depth': 2, 'max_features': 'sqrt'}</td>\n",
       "      <td>{'max_depth': 2, 'max_features': 'auto'}</td>\n",
       "      <td>{'max_depth': 2, 'max_features': 'log2'}</td>\n",
       "      <td>{'max_depth': 3, 'max_features': 'sqrt'}</td>\n",
       "      <td>{'max_depth': 3, 'max_features': 'auto'}</td>\n",
       "      <td>{'max_depth': 3, 'max_features': 'log2'}</td>\n",
       "      <td>{'max_depth': 4, 'max_features': 'sqrt'}</td>\n",
       "      <td>{'max_depth': 4, 'max_features': 'auto'}</td>\n",
       "      <td>{'max_depth': 4, 'max_features': 'log2'}</td>\n",
       "      <td>{'max_depth': 5, 'max_features': 'sqrt'}</td>\n",
       "      <td>{'max_depth': 5, 'max_features': 'auto'}</td>\n",
       "      <td>{'max_depth': 5, 'max_features': 'log2'}</td>\n",
       "    </tr>\n",
       "    <tr>\n",
       "      <th>rank_test_score</th>\n",
       "      <td>14</td>\n",
       "      <td>13</td>\n",
       "      <td>15</td>\n",
       "      <td>7</td>\n",
       "      <td>4</td>\n",
       "      <td>12</td>\n",
       "      <td>2</td>\n",
       "      <td>3</td>\n",
       "      <td>11</td>\n",
       "      <td>1</td>\n",
       "      <td>5</td>\n",
       "      <td>10</td>\n",
       "      <td>9</td>\n",
       "      <td>8</td>\n",
       "      <td>6</td>\n",
       "    </tr>\n",
       "    <tr>\n",
       "      <th>split0_test_score</th>\n",
       "      <td>0.870797</td>\n",
       "      <td>0.861826</td>\n",
       "      <td>0.822288</td>\n",
       "      <td>0.893045</td>\n",
       "      <td>0.89238</td>\n",
       "      <td>0.881956</td>\n",
       "      <td>0.907024</td>\n",
       "      <td>0.879232</td>\n",
       "      <td>0.88726</td>\n",
       "      <td>0.901296</td>\n",
       "      <td>0.873519</td>\n",
       "      <td>0.889619</td>\n",
       "      <td>0.883737</td>\n",
       "      <td>0.866555</td>\n",
       "      <td>0.894964</td>\n",
       "    </tr>\n",
       "    <tr>\n",
       "      <th>split0_train_score</th>\n",
       "      <td>0.881618</td>\n",
       "      <td>0.906203</td>\n",
       "      <td>0.8137</td>\n",
       "      <td>0.934958</td>\n",
       "      <td>0.950978</td>\n",
       "      <td>0.913414</td>\n",
       "      <td>0.964473</td>\n",
       "      <td>0.974447</td>\n",
       "      <td>0.949125</td>\n",
       "      <td>0.978175</td>\n",
       "      <td>0.987934</td>\n",
       "      <td>0.965188</td>\n",
       "      <td>0.988666</td>\n",
       "      <td>0.995023</td>\n",
       "      <td>0.981642</td>\n",
       "    </tr>\n",
       "    <tr>\n",
       "      <th>split1_test_score</th>\n",
       "      <td>0.837855</td>\n",
       "      <td>0.870056</td>\n",
       "      <td>0.775328</td>\n",
       "      <td>0.882194</td>\n",
       "      <td>0.891715</td>\n",
       "      <td>0.868905</td>\n",
       "      <td>0.886395</td>\n",
       "      <td>0.897865</td>\n",
       "      <td>0.877447</td>\n",
       "      <td>0.899396</td>\n",
       "      <td>0.897658</td>\n",
       "      <td>0.871639</td>\n",
       "      <td>0.879626</td>\n",
       "      <td>0.890034</td>\n",
       "      <td>0.879264</td>\n",
       "    </tr>\n",
       "    <tr>\n",
       "      <th>split1_train_score</th>\n",
       "      <td>0.885915</td>\n",
       "      <td>0.907248</td>\n",
       "      <td>0.833519</td>\n",
       "      <td>0.935707</td>\n",
       "      <td>0.950752</td>\n",
       "      <td>0.925693</td>\n",
       "      <td>0.961494</td>\n",
       "      <td>0.975182</td>\n",
       "      <td>0.944947</td>\n",
       "      <td>0.979237</td>\n",
       "      <td>0.98714</td>\n",
       "      <td>0.96581</td>\n",
       "      <td>0.988525</td>\n",
       "      <td>0.995122</td>\n",
       "      <td>0.980625</td>\n",
       "    </tr>\n",
       "    <tr>\n",
       "      <th>split2_test_score</th>\n",
       "      <td>0.84016</td>\n",
       "      <td>0.873001</td>\n",
       "      <td>0.777165</td>\n",
       "      <td>0.890029</td>\n",
       "      <td>0.896765</td>\n",
       "      <td>0.888252</td>\n",
       "      <td>0.89775</td>\n",
       "      <td>0.90801</td>\n",
       "      <td>0.879924</td>\n",
       "      <td>0.904321</td>\n",
       "      <td>0.905335</td>\n",
       "      <td>0.884653</td>\n",
       "      <td>0.888368</td>\n",
       "      <td>0.902974</td>\n",
       "      <td>0.896215</td>\n",
       "    </tr>\n",
       "    <tr>\n",
       "      <th>split2_train_score</th>\n",
       "      <td>0.878117</td>\n",
       "      <td>0.906785</td>\n",
       "      <td>0.824636</td>\n",
       "      <td>0.931671</td>\n",
       "      <td>0.951259</td>\n",
       "      <td>0.92001</td>\n",
       "      <td>0.960695</td>\n",
       "      <td>0.974868</td>\n",
       "      <td>0.946696</td>\n",
       "      <td>0.97743</td>\n",
       "      <td>0.98787</td>\n",
       "      <td>0.965557</td>\n",
       "      <td>0.988119</td>\n",
       "      <td>0.995205</td>\n",
       "      <td>0.980251</td>\n",
       "    </tr>\n",
       "    <tr>\n",
       "      <th>std_fit_time</th>\n",
       "      <td>0.0107409</td>\n",
       "      <td>0.0049851</td>\n",
       "      <td>0.00263499</td>\n",
       "      <td>0.00358408</td>\n",
       "      <td>0.016726</td>\n",
       "      <td>0.00142027</td>\n",
       "      <td>0.00200458</td>\n",
       "      <td>0.0299416</td>\n",
       "      <td>0.00186862</td>\n",
       "      <td>0.00935699</td>\n",
       "      <td>0.0134174</td>\n",
       "      <td>0.0012253</td>\n",
       "      <td>0.00272327</td>\n",
       "      <td>0.176977</td>\n",
       "      <td>0.00046815</td>\n",
       "    </tr>\n",
       "    <tr>\n",
       "      <th>std_score_time</th>\n",
       "      <td>0.00117263</td>\n",
       "      <td>0.00191656</td>\n",
       "      <td>0.000630967</td>\n",
       "      <td>0.00116518</td>\n",
       "      <td>0.000497108</td>\n",
       "      <td>1.38109e-06</td>\n",
       "      <td>0.00188694</td>\n",
       "      <td>0.00188436</td>\n",
       "      <td>0.00188559</td>\n",
       "      <td>0.00498722</td>\n",
       "      <td>0.00223592</td>\n",
       "      <td>0.00166335</td>\n",
       "      <td>1.2157e-06</td>\n",
       "      <td>0.00118787</td>\n",
       "      <td>1.46109e-06</td>\n",
       "    </tr>\n",
       "    <tr>\n",
       "      <th>std_test_score</th>\n",
       "      <td>0.0150206</td>\n",
       "      <td>0.00473068</td>\n",
       "      <td>0.0217248</td>\n",
       "      <td>0.00457332</td>\n",
       "      <td>0.00223967</td>\n",
       "      <td>0.00805497</td>\n",
       "      <td>0.00843718</td>\n",
       "      <td>0.0119209</td>\n",
       "      <td>0.00416756</td>\n",
       "      <td>0.00202709</td>\n",
       "      <td>0.0135601</td>\n",
       "      <td>0.00758167</td>\n",
       "      <td>0.00356985</td>\n",
       "      <td>0.015078</td>\n",
       "      <td>0.00771129</td>\n",
       "    </tr>\n",
       "    <tr>\n",
       "      <th>std_train_score</th>\n",
       "      <td>0.00318922</td>\n",
       "      <td>0.000427709</td>\n",
       "      <td>0.00810542</td>\n",
       "      <td>0.00175274</td>\n",
       "      <td>0.000207197</td>\n",
       "      <td>0.00501744</td>\n",
       "      <td>0.00162552</td>\n",
       "      <td>0.000301077</td>\n",
       "      <td>0.00171328</td>\n",
       "      <td>0.000741576</td>\n",
       "      <td>0.00036026</td>\n",
       "      <td>0.000255257</td>\n",
       "      <td>0.000231861</td>\n",
       "      <td>7.45424e-05</td>\n",
       "      <td>0.000587608</td>\n",
       "    </tr>\n",
       "  </tbody>\n",
       "</table>\n",
       "</div>"
      ],
      "text/plain": [
       "                                                          0   \\\n",
       "mean_fit_time                                       0.104072   \n",
       "mean_score_time                                   0.00637603   \n",
       "mean_test_score                                     0.849619   \n",
       "mean_train_score                                    0.881883   \n",
       "param_max_depth                                            1   \n",
       "param_max_features                                      sqrt   \n",
       "params              {'max_depth': 1, 'max_features': 'sqrt'}   \n",
       "rank_test_score                                           14   \n",
       "split0_test_score                                   0.870797   \n",
       "split0_train_score                                  0.881618   \n",
       "split1_test_score                                   0.837855   \n",
       "split1_train_score                                  0.885915   \n",
       "split2_test_score                                    0.84016   \n",
       "split2_train_score                                  0.878117   \n",
       "std_fit_time                                       0.0107409   \n",
       "std_score_time                                    0.00117263   \n",
       "std_test_score                                     0.0150206   \n",
       "std_train_score                                   0.00318922   \n",
       "\n",
       "                                                          1   \\\n",
       "mean_fit_time                                       0.622322   \n",
       "mean_score_time                                    0.0093526   \n",
       "mean_test_score                                      0.86829   \n",
       "mean_train_score                                    0.906746   \n",
       "param_max_depth                                            1   \n",
       "param_max_features                                      auto   \n",
       "params              {'max_depth': 1, 'max_features': 'auto'}   \n",
       "rank_test_score                                           13   \n",
       "split0_test_score                                   0.861826   \n",
       "split0_train_score                                  0.906203   \n",
       "split1_test_score                                   0.870056   \n",
       "split1_train_score                                  0.907248   \n",
       "split2_test_score                                   0.873001   \n",
       "split2_train_score                                  0.906785   \n",
       "std_fit_time                                       0.0049851   \n",
       "std_score_time                                    0.00191656   \n",
       "std_test_score                                    0.00473068   \n",
       "std_train_score                                  0.000427709   \n",
       "\n",
       "                                                          2   \\\n",
       "mean_fit_time                                       0.104802   \n",
       "mean_score_time                                   0.00844916   \n",
       "mean_test_score                                     0.791615   \n",
       "mean_train_score                                    0.823952   \n",
       "param_max_depth                                            1   \n",
       "param_max_features                                      log2   \n",
       "params              {'max_depth': 1, 'max_features': 'log2'}   \n",
       "rank_test_score                                           15   \n",
       "split0_test_score                                   0.822288   \n",
       "split0_train_score                                    0.8137   \n",
       "split1_test_score                                   0.775328   \n",
       "split1_train_score                                  0.833519   \n",
       "split2_test_score                                   0.777165   \n",
       "split2_train_score                                  0.824636   \n",
       "std_fit_time                                      0.00263499   \n",
       "std_score_time                                   0.000630967   \n",
       "std_test_score                                     0.0217248   \n",
       "std_train_score                                   0.00810542   \n",
       "\n",
       "                                                          3   \\\n",
       "mean_fit_time                                       0.184525   \n",
       "mean_score_time                                   0.00792408   \n",
       "mean_test_score                                     0.888426   \n",
       "mean_train_score                                    0.934112   \n",
       "param_max_depth                                            2   \n",
       "param_max_features                                      sqrt   \n",
       "params              {'max_depth': 2, 'max_features': 'sqrt'}   \n",
       "rank_test_score                                            7   \n",
       "split0_test_score                                   0.893045   \n",
       "split0_train_score                                  0.934958   \n",
       "split1_test_score                                   0.882194   \n",
       "split1_train_score                                  0.935707   \n",
       "split2_test_score                                   0.890029   \n",
       "split2_train_score                                  0.931671   \n",
       "std_fit_time                                      0.00358408   \n",
       "std_score_time                                    0.00116518   \n",
       "std_test_score                                    0.00457332   \n",
       "std_train_score                                   0.00175274   \n",
       "\n",
       "                                                          4   \\\n",
       "mean_fit_time                                        1.45895   \n",
       "mean_score_time                                   0.00835355   \n",
       "mean_test_score                                     0.893619   \n",
       "mean_train_score                                    0.950996   \n",
       "param_max_depth                                            2   \n",
       "param_max_features                                      auto   \n",
       "params              {'max_depth': 2, 'max_features': 'auto'}   \n",
       "rank_test_score                                            4   \n",
       "split0_test_score                                    0.89238   \n",
       "split0_train_score                                  0.950978   \n",
       "split1_test_score                                   0.891715   \n",
       "split1_train_score                                  0.950752   \n",
       "split2_test_score                                   0.896765   \n",
       "split2_train_score                                  0.951259   \n",
       "std_fit_time                                        0.016726   \n",
       "std_score_time                                   0.000497108   \n",
       "std_test_score                                    0.00223967   \n",
       "std_train_score                                  0.000207197   \n",
       "\n",
       "                                                          5   \\\n",
       "mean_fit_time                                       0.130467   \n",
       "mean_score_time                                    0.0120048   \n",
       "mean_test_score                                     0.879706   \n",
       "mean_train_score                                    0.919706   \n",
       "param_max_depth                                            2   \n",
       "param_max_features                                      log2   \n",
       "params              {'max_depth': 2, 'max_features': 'log2'}   \n",
       "rank_test_score                                           12   \n",
       "split0_test_score                                   0.881956   \n",
       "split0_train_score                                  0.913414   \n",
       "split1_test_score                                   0.868905   \n",
       "split1_train_score                                  0.925693   \n",
       "split2_test_score                                   0.888252   \n",
       "split2_train_score                                   0.92001   \n",
       "std_fit_time                                      0.00142027   \n",
       "std_score_time                                   1.38109e-06   \n",
       "std_test_score                                    0.00805497   \n",
       "std_train_score                                   0.00501744   \n",
       "\n",
       "                                                          6   \\\n",
       "mean_fit_time                                       0.251796   \n",
       "mean_score_time                                   0.00933035   \n",
       "mean_test_score                                     0.897063   \n",
       "mean_train_score                                    0.962221   \n",
       "param_max_depth                                            3   \n",
       "param_max_features                                      sqrt   \n",
       "params              {'max_depth': 3, 'max_features': 'sqrt'}   \n",
       "rank_test_score                                            2   \n",
       "split0_test_score                                   0.907024   \n",
       "split0_train_score                                  0.964473   \n",
       "split1_test_score                                   0.886395   \n",
       "split1_train_score                                  0.961494   \n",
       "split2_test_score                                    0.89775   \n",
       "split2_train_score                                  0.960695   \n",
       "std_fit_time                                      0.00200458   \n",
       "std_score_time                                    0.00188694   \n",
       "std_test_score                                    0.00843718   \n",
       "std_train_score                                   0.00162552   \n",
       "\n",
       "                                                          7   \\\n",
       "mean_fit_time                                        2.66087   \n",
       "mean_score_time                                    0.0106698   \n",
       "mean_test_score                                     0.895025   \n",
       "mean_train_score                                    0.974832   \n",
       "param_max_depth                                            3   \n",
       "param_max_features                                      auto   \n",
       "params              {'max_depth': 3, 'max_features': 'auto'}   \n",
       "rank_test_score                                            3   \n",
       "split0_test_score                                   0.879232   \n",
       "split0_train_score                                  0.974447   \n",
       "split1_test_score                                   0.897865   \n",
       "split1_train_score                                  0.975182   \n",
       "split2_test_score                                    0.90801   \n",
       "split2_train_score                                  0.974868   \n",
       "std_fit_time                                       0.0299416   \n",
       "std_score_time                                    0.00188436   \n",
       "std_test_score                                     0.0119209   \n",
       "std_train_score                                  0.000301077   \n",
       "\n",
       "                                                          8   \\\n",
       "mean_fit_time                                       0.169009   \n",
       "mean_score_time                                    0.0106639   \n",
       "mean_test_score                                     0.881548   \n",
       "mean_train_score                                    0.946922   \n",
       "param_max_depth                                            3   \n",
       "param_max_features                                      log2   \n",
       "params              {'max_depth': 3, 'max_features': 'log2'}   \n",
       "rank_test_score                                           11   \n",
       "split0_test_score                                    0.88726   \n",
       "split0_train_score                                  0.949125   \n",
       "split1_test_score                                   0.877447   \n",
       "split1_train_score                                  0.944947   \n",
       "split2_test_score                                   0.879924   \n",
       "split2_train_score                                  0.946696   \n",
       "std_fit_time                                      0.00186862   \n",
       "std_score_time                                    0.00188559   \n",
       "std_test_score                                    0.00416756   \n",
       "std_train_score                                   0.00171328   \n",
       "\n",
       "                                                          9   \\\n",
       "mean_fit_time                                       0.353051   \n",
       "mean_score_time                                    0.0133296   \n",
       "mean_test_score                                     0.901671   \n",
       "mean_train_score                                    0.978281   \n",
       "param_max_depth                                            4   \n",
       "param_max_features                                      sqrt   \n",
       "params              {'max_depth': 4, 'max_features': 'sqrt'}   \n",
       "rank_test_score                                            1   \n",
       "split0_test_score                                   0.901296   \n",
       "split0_train_score                                  0.978175   \n",
       "split1_test_score                                   0.899396   \n",
       "split1_train_score                                  0.979237   \n",
       "split2_test_score                                   0.904321   \n",
       "split2_train_score                                   0.97743   \n",
       "std_fit_time                                      0.00935699   \n",
       "std_score_time                                    0.00498722   \n",
       "std_test_score                                    0.00202709   \n",
       "std_train_score                                  0.000741576   \n",
       "\n",
       "                                                          10  \\\n",
       "mean_fit_time                                        4.07098   \n",
       "mean_score_time                                    0.0110799   \n",
       "mean_test_score                                     0.892158   \n",
       "mean_train_score                                    0.987648   \n",
       "param_max_depth                                            4   \n",
       "param_max_features                                      auto   \n",
       "params              {'max_depth': 4, 'max_features': 'auto'}   \n",
       "rank_test_score                                            5   \n",
       "split0_test_score                                   0.873519   \n",
       "split0_train_score                                  0.987934   \n",
       "split1_test_score                                   0.897658   \n",
       "split1_train_score                                   0.98714   \n",
       "split2_test_score                                   0.905335   \n",
       "split2_train_score                                   0.98787   \n",
       "std_fit_time                                       0.0134174   \n",
       "std_score_time                                    0.00223592   \n",
       "std_test_score                                     0.0135601   \n",
       "std_train_score                                   0.00036026   \n",
       "\n",
       "                                                          11  \\\n",
       "mean_fit_time                                       0.220351   \n",
       "mean_score_time                                   0.00977564   \n",
       "mean_test_score                                     0.881976   \n",
       "mean_train_score                                    0.965519   \n",
       "param_max_depth                                            4   \n",
       "param_max_features                                      log2   \n",
       "params              {'max_depth': 4, 'max_features': 'log2'}   \n",
       "rank_test_score                                           10   \n",
       "split0_test_score                                   0.889619   \n",
       "split0_train_score                                  0.965188   \n",
       "split1_test_score                                   0.871639   \n",
       "split1_train_score                                   0.96581   \n",
       "split2_test_score                                   0.884653   \n",
       "split2_train_score                                  0.965557   \n",
       "std_fit_time                                       0.0012253   \n",
       "std_score_time                                    0.00166335   \n",
       "std_test_score                                    0.00758167   \n",
       "std_train_score                                  0.000255257   \n",
       "\n",
       "                                                          12  \\\n",
       "mean_fit_time                                       0.481347   \n",
       "mean_score_time                                    0.0119977   \n",
       "mean_test_score                                      0.88391   \n",
       "mean_train_score                                    0.988437   \n",
       "param_max_depth                                            5   \n",
       "param_max_features                                      sqrt   \n",
       "params              {'max_depth': 5, 'max_features': 'sqrt'}   \n",
       "rank_test_score                                            9   \n",
       "split0_test_score                                   0.883737   \n",
       "split0_train_score                                  0.988666   \n",
       "split1_test_score                                   0.879626   \n",
       "split1_train_score                                  0.988525   \n",
       "split2_test_score                                   0.888368   \n",
       "split2_train_score                                  0.988119   \n",
       "std_fit_time                                      0.00272327   \n",
       "std_score_time                                    1.2157e-06   \n",
       "std_test_score                                    0.00356985   \n",
       "std_train_score                                  0.000231861   \n",
       "\n",
       "                                                          13  \\\n",
       "mean_fit_time                                        4.95051   \n",
       "mean_score_time                                    0.0071609   \n",
       "mean_test_score                                     0.886507   \n",
       "mean_train_score                                    0.995116   \n",
       "param_max_depth                                            5   \n",
       "param_max_features                                      auto   \n",
       "params              {'max_depth': 5, 'max_features': 'auto'}   \n",
       "rank_test_score                                            8   \n",
       "split0_test_score                                   0.866555   \n",
       "split0_train_score                                  0.995023   \n",
       "split1_test_score                                   0.890034   \n",
       "split1_train_score                                  0.995122   \n",
       "split2_test_score                                   0.902974   \n",
       "split2_train_score                                  0.995205   \n",
       "std_fit_time                                        0.176977   \n",
       "std_score_time                                    0.00118787   \n",
       "std_test_score                                      0.015078   \n",
       "std_train_score                                  7.45424e-05   \n",
       "\n",
       "                                                          14  \n",
       "mean_fit_time                                       0.277144  \n",
       "mean_score_time                                    0.0120005  \n",
       "mean_test_score                                     0.890151  \n",
       "mean_train_score                                    0.980839  \n",
       "param_max_depth                                            5  \n",
       "param_max_features                                      log2  \n",
       "params              {'max_depth': 5, 'max_features': 'log2'}  \n",
       "rank_test_score                                            6  \n",
       "split0_test_score                                   0.894964  \n",
       "split0_train_score                                  0.981642  \n",
       "split1_test_score                                   0.879264  \n",
       "split1_train_score                                  0.980625  \n",
       "split2_test_score                                   0.896215  \n",
       "split2_train_score                                  0.980251  \n",
       "std_fit_time                                      0.00046815  \n",
       "std_score_time                                   1.46109e-06  \n",
       "std_test_score                                    0.00771129  \n",
       "std_train_score                                  0.000587608  "
      ]
     },
     "execution_count": 37,
     "metadata": {},
     "output_type": "execute_result"
    }
   ],
   "source": [
    "results"
   ]
  },
  {
   "cell_type": "code",
   "execution_count": 38,
   "metadata": {},
   "outputs": [
    {
     "ename": "SyntaxError",
     "evalue": "positional argument follows keyword argument (<ipython-input-38-2710c7de7a4f>, line 2)",
     "output_type": "error",
     "traceback": [
      "\u001b[1;36m  File \u001b[1;32m\"<ipython-input-38-2710c7de7a4f>\"\u001b[1;36m, line \u001b[1;32m2\u001b[0m\n\u001b[1;33m    'std_test_score',\u001b[0m\n\u001b[1;37m    ^\u001b[0m\n\u001b[1;31mSyntaxError\u001b[0m\u001b[1;31m:\u001b[0m positional argument follows keyword argument\n"
     ]
    }
   ],
   "source": [
    "results[['mean_test_score', 'std_test_score']]. plot(x='mean_test_score', \n",
    "                                                    y='std_test_score',\n",
    "                                                    colormap=results['colors'],\n",
    "                                                    kind='scatter')"
   ]
  },
  {
   "cell_type": "markdown",
   "metadata": {},
   "source": [
    "#### Neural Network"
   ]
  },
  {
   "cell_type": "code",
   "execution_count": 27,
   "metadata": {
    "collapsed": true
   },
   "outputs": [],
   "source": [
    "###### Import multilayer perceptron model\n",
    "\n",
    "from sklearn.neural_network import MLPRegressor"
   ]
  },
  {
   "cell_type": "code",
   "execution_count": 28,
   "metadata": {
    "collapsed": true
   },
   "outputs": [],
   "source": [
    "###### Define grid search parameters\n",
    "\n",
    "gs_param_nn = {\n",
    "    'hidden_layer_sizes' : [\n",
    "        (8, ), (4,4), (2,2,2)\n",
    "    ],\n",
    "    'alpha' : np.logspace(-3,3,7)\n",
    "}"
   ]
  },
  {
   "cell_type": "code",
   "execution_count": 29,
   "metadata": {
    "collapsed": true
   },
   "outputs": [],
   "source": [
    "###### Define grid search model\n",
    "\n",
    "nn_grid_search = GridSearchCV(MLPRegressor(), param_grid=gs_param_nn, n_jobs=-1)"
   ]
  },
  {
   "cell_type": "code",
   "execution_count": 30,
   "metadata": {},
   "outputs": [
    {
     "data": {
      "text/plain": [
       "GridSearchCV(cv=None, error_score='raise',\n",
       "       estimator=MLPRegressor(activation='relu', alpha=0.0001, batch_size='auto', beta_1=0.9,\n",
       "       beta_2=0.999, early_stopping=False, epsilon=1e-08,\n",
       "       hidden_layer_sizes=(100,), learning_rate='constant',\n",
       "       learning_rate_init=0.001, max_iter=200, momentum=0.9,\n",
       "       nesterovs_momentum=True, power_t=0.5, random_state=None,\n",
       "       shuffle=True, solver='adam', tol=0.0001, validation_fraction=0.1,\n",
       "       verbose=False, warm_start=False),\n",
       "       fit_params=None, iid=True, n_jobs=-1,\n",
       "       param_grid={'hidden_layer_sizes': [(8,), (4, 4), (2, 2, 2)], 'alpha': array([  1.00000e-03,   1.00000e-02,   1.00000e-01,   1.00000e+00,\n",
       "         1.00000e+01,   1.00000e+02,   1.00000e+03])},\n",
       "       pre_dispatch='2*n_jobs', refit=True, return_train_score='warn',\n",
       "       scoring=None, verbose=0)"
      ]
     },
     "execution_count": 30,
     "metadata": {},
     "output_type": "execute_result"
    }
   ],
   "source": [
    "###### Fit model\n",
    "\n",
    "nn_grid_search.fit(dataset_2, target_2)"
   ]
  },
  {
   "cell_type": "code",
   "execution_count": 31,
   "metadata": {},
   "outputs": [
    {
     "data": {
      "text/plain": [
       "-4.9890829237619414"
      ]
     },
     "execution_count": 31,
     "metadata": {},
     "output_type": "execute_result"
    }
   ],
   "source": [
    "###### Display best neural network score\n",
    "nn_grid_search.best_score_"
   ]
  }
 ],
 "metadata": {
  "kernelspec": {
   "display_name": "Python 3",
   "language": "python",
   "name": "python3"
  },
  "language_info": {
   "codemirror_mode": {
    "name": "ipython",
    "version": 3
   },
   "file_extension": ".py",
   "mimetype": "text/x-python",
   "name": "python",
   "nbconvert_exporter": "python",
   "pygments_lexer": "ipython3",
   "version": "3.6.4"
  }
 },
 "nbformat": 4,
 "nbformat_minor": 2
}
